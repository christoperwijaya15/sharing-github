{
 "cells": [
  {
   "cell_type": "code",
   "execution_count": 1,
   "metadata": {
    "collapsed": true
   },
   "outputs": [],
   "source": [
    "%load_ext autotime\n",
    "import pandas as pd\n",
    "import csv"
   ]
  },
  {
   "cell_type": "code",
   "execution_count": 65,
   "metadata": {},
   "outputs": [
    {
     "name": "stdout",
     "output_type": "stream",
     "text": [
      "time: 1.2 ms\n"
     ]
    }
   ],
   "source": [
    "import numpy as np"
   ]
  },
  {
   "cell_type": "markdown",
   "metadata": {},
   "source": [
    "# Loading MAG\n",
    "\n",
    "You can check the data scheme here\n",
    "\n",
    ": https://docs.microsoft.com/en-us/academic-services/graph/reference-data-schema#paperstxt"
   ]
  },
  {
   "cell_type": "markdown",
   "metadata": {},
   "source": [
    "Example"
   ]
  },
  {
   "cell_type": "code",
   "execution_count": 2,
   "metadata": {},
   "outputs": [
    {
     "name": "stdout",
     "output_type": "stream",
     "text": [
      "time: 604 ms\n"
     ]
    }
   ],
   "source": [
    "FieldsOfStudy = pd.read_csv(r\"/home/chris/MAG/FieldsOfStudy.txt\",\n",
    "                            sep=\"\\t\",\n",
    "                            header=None)"
   ]
  },
  {
   "cell_type": "markdown",
   "metadata": {},
   "source": [
    "When you load the large-size data(e.g. \"Papers.txt\": ~52GB), the loading time will be long."
   ]
  },
  {
   "cell_type": "code",
   "execution_count": 3,
   "metadata": {},
   "outputs": [
    {
     "name": "stdout",
     "output_type": "stream",
     "text": [
      "time: 472 µs\n"
     ]
    }
   ],
   "source": [
    "# Papers = pd.read_csv(r\"/home/chris/MAG/Papers.txt\",\n",
    "#                             sep=\"\\t\",\n",
    "#                             header=None)"
   ]
  },
  {
   "cell_type": "markdown",
   "metadata": {},
   "source": [
    "## Test New MAG"
   ]
  },
  {
   "cell_type": "code",
   "execution_count": null,
   "metadata": {
    "collapsed": true
   },
   "outputs": [],
   "source": [
    "x"
   ]
  },
  {
   "cell_type": "code",
   "execution_count": 66,
   "metadata": {},
   "outputs": [
    {
     "name": "stdout",
     "output_type": "stream",
     "text": [
      "time: 6min 52s\n"
     ]
    }
   ],
   "source": [
    "OldAuthors = pd.read_csv(r\"/home/chris/MAG/Authors.txt\",\n",
    "                            sep=\"\\t\",\n",
    "                            names=np.array(range(0,8), dtype=int),\n",
    "                            header=None,\n",
    "                        )"
   ]
  },
  {
   "cell_type": "code",
   "execution_count": 67,
   "metadata": {},
   "outputs": [
    {
     "data": {
      "text/html": [
       "<div>\n",
       "<style scoped>\n",
       "    .dataframe tbody tr th:only-of-type {\n",
       "        vertical-align: middle;\n",
       "    }\n",
       "\n",
       "    .dataframe tbody tr th {\n",
       "        vertical-align: top;\n",
       "    }\n",
       "\n",
       "    .dataframe thead th {\n",
       "        text-align: right;\n",
       "    }\n",
       "</style>\n",
       "<table border=\"1\" class=\"dataframe\">\n",
       "  <thead>\n",
       "    <tr style=\"text-align: right;\">\n",
       "      <th></th>\n",
       "      <th>0</th>\n",
       "      <th>1</th>\n",
       "      <th>2</th>\n",
       "      <th>3</th>\n",
       "      <th>4</th>\n",
       "      <th>5</th>\n",
       "      <th>6</th>\n",
       "      <th>7</th>\n",
       "    </tr>\n",
       "  </thead>\n",
       "  <tbody>\n",
       "    <tr>\n",
       "      <td>0</td>\n",
       "      <td>584</td>\n",
       "      <td>20180</td>\n",
       "      <td>gozde ozdikmenlidemir</td>\n",
       "      <td>Gözde Özdikmenli-Demir</td>\n",
       "      <td>7.994679e+07</td>\n",
       "      <td>2</td>\n",
       "      <td>0</td>\n",
       "      <td>2016-06-24</td>\n",
       "    </tr>\n",
       "    <tr>\n",
       "      <td>1</td>\n",
       "      <td>859</td>\n",
       "      <td>20118</td>\n",
       "      <td>gy tolmar</td>\n",
       "      <td>Gy. Tolmár</td>\n",
       "      <td>NaN</td>\n",
       "      <td>2</td>\n",
       "      <td>1</td>\n",
       "      <td>2016-06-24</td>\n",
       "    </tr>\n",
       "    <tr>\n",
       "      <td>2</td>\n",
       "      <td>978</td>\n",
       "      <td>17767</td>\n",
       "      <td>ximena faundez</td>\n",
       "      <td>Ximena Faúndez</td>\n",
       "      <td>1.621484e+08</td>\n",
       "      <td>18</td>\n",
       "      <td>40</td>\n",
       "      <td>2016-06-24</td>\n",
       "    </tr>\n",
       "    <tr>\n",
       "      <td>3</td>\n",
       "      <td>1139</td>\n",
       "      <td>19162</td>\n",
       "      <td>jennifer putzi</td>\n",
       "      <td>Jennifer Putzi</td>\n",
       "      <td>NaN</td>\n",
       "      <td>4</td>\n",
       "      <td>16</td>\n",
       "      <td>2016-06-24</td>\n",
       "    </tr>\n",
       "    <tr>\n",
       "      <td>4</td>\n",
       "      <td>1611</td>\n",
       "      <td>20180</td>\n",
       "      <td>純子 貝原</td>\n",
       "      <td>純子 貝原</td>\n",
       "      <td>NaN</td>\n",
       "      <td>2</td>\n",
       "      <td>0</td>\n",
       "      <td>2016-06-24</td>\n",
       "    </tr>\n",
       "    <tr>\n",
       "      <td>...</td>\n",
       "      <td>...</td>\n",
       "      <td>...</td>\n",
       "      <td>...</td>\n",
       "      <td>...</td>\n",
       "      <td>...</td>\n",
       "      <td>...</td>\n",
       "      <td>...</td>\n",
       "      <td>...</td>\n",
       "    </tr>\n",
       "    <tr>\n",
       "      <td>252389554</td>\n",
       "      <td>2895778919</td>\n",
       "      <td>20873</td>\n",
       "      <td>xuefu wu</td>\n",
       "      <td>Xuefu Wu</td>\n",
       "      <td>1.327238e+09</td>\n",
       "      <td>1</td>\n",
       "      <td>0</td>\n",
       "      <td>2018-10-12</td>\n",
       "    </tr>\n",
       "    <tr>\n",
       "      <td>252389555</td>\n",
       "      <td>2895778922</td>\n",
       "      <td>25000</td>\n",
       "      <td>xin liao</td>\n",
       "      <td>Xin Liao</td>\n",
       "      <td>NaN</td>\n",
       "      <td>1</td>\n",
       "      <td>0</td>\n",
       "      <td>2018-10-12</td>\n",
       "    </tr>\n",
       "    <tr>\n",
       "      <td>252389556</td>\n",
       "      <td>2895778923</td>\n",
       "      <td>17319</td>\n",
       "      <td>j m moulds</td>\n",
       "      <td>Moulds Jm</td>\n",
       "      <td>9.195719e+08</td>\n",
       "      <td>1</td>\n",
       "      <td>493</td>\n",
       "      <td>2018-10-12</td>\n",
       "    </tr>\n",
       "    <tr>\n",
       "      <td>252389557</td>\n",
       "      <td>2895778924</td>\n",
       "      <td>20873</td>\n",
       "      <td>진심원</td>\n",
       "      <td>진심원</td>\n",
       "      <td>NaN</td>\n",
       "      <td>1</td>\n",
       "      <td>0</td>\n",
       "      <td>2018-10-12</td>\n",
       "    </tr>\n",
       "    <tr>\n",
       "      <td>252389558</td>\n",
       "      <td>2895778925</td>\n",
       "      <td>20647</td>\n",
       "      <td>keng boon wee</td>\n",
       "      <td>Keng Boon Wee</td>\n",
       "      <td>1.152287e+08</td>\n",
       "      <td>1</td>\n",
       "      <td>1</td>\n",
       "      <td>2018-10-12</td>\n",
       "    </tr>\n",
       "  </tbody>\n",
       "</table>\n",
       "<p>252389559 rows × 8 columns</p>\n",
       "</div>"
      ],
      "text/plain": [
       "                    0      1                      2                       3  \\\n",
       "0                 584  20180  gozde ozdikmenlidemir  Gözde Özdikmenli-Demir   \n",
       "1                 859  20118              gy tolmar              Gy. Tolmár   \n",
       "2                 978  17767         ximena faundez          Ximena Faúndez   \n",
       "3                1139  19162         jennifer putzi          Jennifer Putzi   \n",
       "4                1611  20180                  純子 貝原                   純子 貝原   \n",
       "...               ...    ...                    ...                     ...   \n",
       "252389554  2895778919  20873               xuefu wu                Xuefu Wu   \n",
       "252389555  2895778922  25000               xin liao                Xin Liao   \n",
       "252389556  2895778923  17319             j m moulds               Moulds Jm   \n",
       "252389557  2895778924  20873                    진심원                     진심원   \n",
       "252389558  2895778925  20647          keng boon wee           Keng Boon Wee   \n",
       "\n",
       "                      4   5    6           7  \n",
       "0          7.994679e+07   2    0  2016-06-24  \n",
       "1                   NaN   2    1  2016-06-24  \n",
       "2          1.621484e+08  18   40  2016-06-24  \n",
       "3                   NaN   4   16  2016-06-24  \n",
       "4                   NaN   2    0  2016-06-24  \n",
       "...                 ...  ..  ...         ...  \n",
       "252389554  1.327238e+09   1    0  2018-10-12  \n",
       "252389555           NaN   1    0  2018-10-12  \n",
       "252389556  9.195719e+08   1  493  2018-10-12  \n",
       "252389557           NaN   1    0  2018-10-12  \n",
       "252389558  1.152287e+08   1    1  2018-10-12  \n",
       "\n",
       "[252389559 rows x 8 columns]"
      ]
     },
     "execution_count": 67,
     "metadata": {},
     "output_type": "execute_result"
    },
    {
     "name": "stdout",
     "output_type": "stream",
     "text": [
      "time: 73.4 ms\n"
     ]
    }
   ],
   "source": [
    "OldAuthors"
   ]
  },
  {
   "cell_type": "code",
   "execution_count": null,
   "metadata": {
    "collapsed": true,
    "scrolled": true
   },
   "outputs": [],
   "source": []
  },
  {
   "cell_type": "code",
   "execution_count": 69,
   "metadata": {},
   "outputs": [
    {
     "name": "stdout",
     "output_type": "stream",
     "text": [
      "time: 6min 32s\n"
     ]
    }
   ],
   "source": [
    "NewAuthors = pd.read_csv(r\"/home/chris/new_mag/Authors.txt\",\n",
    "                            sep=\"\\t\",\n",
    "                            header=None)"
   ]
  },
  {
   "cell_type": "code",
   "execution_count": 74,
   "metadata": {},
   "outputs": [
    {
     "data": {
      "text/html": [
       "<div>\n",
       "<style scoped>\n",
       "    .dataframe tbody tr th:only-of-type {\n",
       "        vertical-align: middle;\n",
       "    }\n",
       "\n",
       "    .dataframe tbody tr th {\n",
       "        vertical-align: top;\n",
       "    }\n",
       "\n",
       "    .dataframe thead th {\n",
       "        text-align: right;\n",
       "    }\n",
       "</style>\n",
       "<table border=\"1\" class=\"dataframe\">\n",
       "  <thead>\n",
       "    <tr style=\"text-align: right;\">\n",
       "      <th></th>\n",
       "      <th>0</th>\n",
       "      <th>1</th>\n",
       "      <th>2</th>\n",
       "      <th>3</th>\n",
       "      <th>4</th>\n",
       "      <th>5</th>\n",
       "      <th>6</th>\n",
       "      <th>7</th>\n",
       "    </tr>\n",
       "  </thead>\n",
       "  <tbody>\n",
       "    <tr>\n",
       "      <td>0</td>\n",
       "      <td>584</td>\n",
       "      <td>19370</td>\n",
       "      <td>gozde ozdikmenlidemir</td>\n",
       "      <td>Gözde Özdikmenli-Demir</td>\n",
       "      <td>79946792.0</td>\n",
       "      <td>5</td>\n",
       "      <td>6</td>\n",
       "      <td>2016-06-24</td>\n",
       "    </tr>\n",
       "    <tr>\n",
       "      <td>1</td>\n",
       "      <td>859</td>\n",
       "      <td>20256</td>\n",
       "      <td>gy tolmar</td>\n",
       "      <td>Gy. Tolmar</td>\n",
       "      <td>NaN</td>\n",
       "      <td>2</td>\n",
       "      <td>1</td>\n",
       "      <td>2016-06-24</td>\n",
       "    </tr>\n",
       "    <tr>\n",
       "      <td>2</td>\n",
       "      <td>978</td>\n",
       "      <td>17869</td>\n",
       "      <td>ximena faundez</td>\n",
       "      <td>Ximena Faúndez</td>\n",
       "      <td>149744451.0</td>\n",
       "      <td>18</td>\n",
       "      <td>49</td>\n",
       "      <td>2016-06-24</td>\n",
       "    </tr>\n",
       "    <tr>\n",
       "      <td>3</td>\n",
       "      <td>1139</td>\n",
       "      <td>19506</td>\n",
       "      <td>jennifer putzi</td>\n",
       "      <td>Jennifer Putzi</td>\n",
       "      <td>NaN</td>\n",
       "      <td>4</td>\n",
       "      <td>6</td>\n",
       "      <td>2016-06-24</td>\n",
       "    </tr>\n",
       "    <tr>\n",
       "      <td>4</td>\n",
       "      <td>1611</td>\n",
       "      <td>20322</td>\n",
       "      <td>純子 貝原</td>\n",
       "      <td>純子 貝原</td>\n",
       "      <td>NaN</td>\n",
       "      <td>2</td>\n",
       "      <td>0</td>\n",
       "      <td>2016-06-24</td>\n",
       "    </tr>\n",
       "    <tr>\n",
       "      <td>...</td>\n",
       "      <td>...</td>\n",
       "      <td>...</td>\n",
       "      <td>...</td>\n",
       "      <td>...</td>\n",
       "      <td>...</td>\n",
       "      <td>...</td>\n",
       "      <td>...</td>\n",
       "      <td>...</td>\n",
       "    </tr>\n",
       "    <tr>\n",
       "      <td>231538559</td>\n",
       "      <td>2977242625</td>\n",
       "      <td>20650</td>\n",
       "      <td>zhang juan</td>\n",
       "      <td>Zhang Juan</td>\n",
       "      <td>NaN</td>\n",
       "      <td>1</td>\n",
       "      <td>2</td>\n",
       "      <td>2019-10-03</td>\n",
       "    </tr>\n",
       "    <tr>\n",
       "      <td>231538560</td>\n",
       "      <td>2977242629</td>\n",
       "      <td>21016</td>\n",
       "      <td>lin kequan</td>\n",
       "      <td>Lin Kequan</td>\n",
       "      <td>NaN</td>\n",
       "      <td>1</td>\n",
       "      <td>0</td>\n",
       "      <td>2019-10-03</td>\n",
       "    </tr>\n",
       "    <tr>\n",
       "      <td>231538561</td>\n",
       "      <td>2977242630</td>\n",
       "      <td>21016</td>\n",
       "      <td>shen shunqiao</td>\n",
       "      <td>Shen Shunqiao</td>\n",
       "      <td>NaN</td>\n",
       "      <td>1</td>\n",
       "      <td>0</td>\n",
       "      <td>2019-10-03</td>\n",
       "    </tr>\n",
       "    <tr>\n",
       "      <td>231538562</td>\n",
       "      <td>2977242631</td>\n",
       "      <td>18136</td>\n",
       "      <td>a gordon</td>\n",
       "      <td>A. Gordon</td>\n",
       "      <td>NaN</td>\n",
       "      <td>1</td>\n",
       "      <td>36</td>\n",
       "      <td>2019-10-03</td>\n",
       "    </tr>\n",
       "    <tr>\n",
       "      <td>231538563</td>\n",
       "      <td>2977242632</td>\n",
       "      <td>21016</td>\n",
       "      <td>lee chang hun</td>\n",
       "      <td>Lee Chang Hun</td>\n",
       "      <td>NaN</td>\n",
       "      <td>1</td>\n",
       "      <td>0</td>\n",
       "      <td>2019-10-03</td>\n",
       "    </tr>\n",
       "  </tbody>\n",
       "</table>\n",
       "<p>231538564 rows × 8 columns</p>\n",
       "</div>"
      ],
      "text/plain": [
       "                    0      1                      2                       3  \\\n",
       "0                 584  19370  gozde ozdikmenlidemir  Gözde Özdikmenli-Demir   \n",
       "1                 859  20256              gy tolmar              Gy. Tolmar   \n",
       "2                 978  17869         ximena faundez          Ximena Faúndez   \n",
       "3                1139  19506         jennifer putzi          Jennifer Putzi   \n",
       "4                1611  20322                  純子 貝原                   純子 貝原   \n",
       "...               ...    ...                    ...                     ...   \n",
       "231538559  2977242625  20650             zhang juan              Zhang Juan   \n",
       "231538560  2977242629  21016             lin kequan              Lin Kequan   \n",
       "231538561  2977242630  21016          shen shunqiao           Shen Shunqiao   \n",
       "231538562  2977242631  18136               a gordon               A. Gordon   \n",
       "231538563  2977242632  21016          lee chang hun           Lee Chang Hun   \n",
       "\n",
       "                     4   5   6           7  \n",
       "0           79946792.0   5   6  2016-06-24  \n",
       "1                  NaN   2   1  2016-06-24  \n",
       "2          149744451.0  18  49  2016-06-24  \n",
       "3                  NaN   4   6  2016-06-24  \n",
       "4                  NaN   2   0  2016-06-24  \n",
       "...                ...  ..  ..         ...  \n",
       "231538559          NaN   1   2  2019-10-03  \n",
       "231538560          NaN   1   0  2019-10-03  \n",
       "231538561          NaN   1   0  2019-10-03  \n",
       "231538562          NaN   1  36  2019-10-03  \n",
       "231538563          NaN   1   0  2019-10-03  \n",
       "\n",
       "[231538564 rows x 8 columns]"
      ]
     },
     "execution_count": 74,
     "metadata": {},
     "output_type": "execute_result"
    },
    {
     "name": "stdout",
     "output_type": "stream",
     "text": [
      "time: 43.1 ms\n"
     ]
    }
   ],
   "source": [
    "NewAuthors"
   ]
  },
  {
   "cell_type": "code",
   "execution_count": null,
   "metadata": {
    "collapsed": true
   },
   "outputs": [],
   "source": []
  },
  {
   "cell_type": "code",
   "execution_count": 70,
   "metadata": {},
   "outputs": [
    {
     "name": "stdout",
     "output_type": "stream",
     "text": [
      "time: 25.8 ms\n"
     ]
    }
   ],
   "source": [
    "%matplotlib inline\n",
    "import matplotlib.pyplot as plt"
   ]
  },
  {
   "cell_type": "markdown",
   "metadata": {},
   "source": [
    "# Testing"
   ]
  },
  {
   "cell_type": "code",
   "execution_count": 72,
   "metadata": {},
   "outputs": [
    {
     "name": "stdout",
     "output_type": "stream",
     "text": [
      "time: 1.6 ms\n"
     ]
    }
   ],
   "source": [
    "tmpA = OldAuthors[:1000]"
   ]
  },
  {
   "cell_type": "code",
   "execution_count": 76,
   "metadata": {},
   "outputs": [
    {
     "data": {
      "text/html": [
       "<div>\n",
       "<style scoped>\n",
       "    .dataframe tbody tr th:only-of-type {\n",
       "        vertical-align: middle;\n",
       "    }\n",
       "\n",
       "    .dataframe tbody tr th {\n",
       "        vertical-align: top;\n",
       "    }\n",
       "\n",
       "    .dataframe thead th {\n",
       "        text-align: right;\n",
       "    }\n",
       "</style>\n",
       "<table border=\"1\" class=\"dataframe\">\n",
       "  <thead>\n",
       "    <tr style=\"text-align: right;\">\n",
       "      <th></th>\n",
       "      <th>0</th>\n",
       "      <th>1</th>\n",
       "      <th>2</th>\n",
       "      <th>3</th>\n",
       "      <th>4</th>\n",
       "      <th>5</th>\n",
       "      <th>6</th>\n",
       "      <th>7</th>\n",
       "    </tr>\n",
       "  </thead>\n",
       "  <tbody>\n",
       "    <tr>\n",
       "      <td>132</td>\n",
       "      <td>41399</td>\n",
       "      <td>13926</td>\n",
       "      <td>i a abrikosov</td>\n",
       "      <td>Igor A. Abrikosov</td>\n",
       "      <td>102134673.0</td>\n",
       "      <td>399</td>\n",
       "      <td>7035</td>\n",
       "      <td>2016-06-24</td>\n",
       "    </tr>\n",
       "    <tr>\n",
       "      <td>205</td>\n",
       "      <td>71810</td>\n",
       "      <td>13525</td>\n",
       "      <td>fred f kadlubar</td>\n",
       "      <td>Fred F. Kadlubar</td>\n",
       "      <td>79620101.0</td>\n",
       "      <td>318</td>\n",
       "      <td>16691</td>\n",
       "      <td>2016-06-24</td>\n",
       "    </tr>\n",
       "  </tbody>\n",
       "</table>\n",
       "</div>"
      ],
      "text/plain": [
       "         0      1                2                  3            4    5  \\\n",
       "132  41399  13926    i a abrikosov  Igor A. Abrikosov  102134673.0  399   \n",
       "205  71810  13525  fred f kadlubar   Fred F. Kadlubar   79620101.0  318   \n",
       "\n",
       "         6           7  \n",
       "132   7035  2016-06-24  \n",
       "205  16691  2016-06-24  "
      ]
     },
     "execution_count": 76,
     "metadata": {},
     "output_type": "execute_result"
    },
    {
     "name": "stdout",
     "output_type": "stream",
     "text": [
      "time: 29.4 ms\n"
     ]
    }
   ],
   "source": [
    "tmpA[tmpA[5]>300]"
   ]
  },
  {
   "cell_type": "code",
   "execution_count": 79,
   "metadata": {},
   "outputs": [
    {
     "name": "stdout",
     "output_type": "stream",
     "text": [
      "time: 5.04 ms\n"
     ]
    }
   ],
   "source": [
    "tmpB = NewAuthors[:1000]"
   ]
  },
  {
   "cell_type": "code",
   "execution_count": 80,
   "metadata": {},
   "outputs": [
    {
     "data": {
      "text/html": [
       "<div>\n",
       "<style scoped>\n",
       "    .dataframe tbody tr th:only-of-type {\n",
       "        vertical-align: middle;\n",
       "    }\n",
       "\n",
       "    .dataframe tbody tr th {\n",
       "        vertical-align: top;\n",
       "    }\n",
       "\n",
       "    .dataframe thead th {\n",
       "        text-align: right;\n",
       "    }\n",
       "</style>\n",
       "<table border=\"1\" class=\"dataframe\">\n",
       "  <thead>\n",
       "    <tr style=\"text-align: right;\">\n",
       "      <th></th>\n",
       "      <th>0</th>\n",
       "      <th>1</th>\n",
       "      <th>2</th>\n",
       "      <th>3</th>\n",
       "      <th>4</th>\n",
       "      <th>5</th>\n",
       "      <th>6</th>\n",
       "      <th>7</th>\n",
       "    </tr>\n",
       "  </thead>\n",
       "  <tbody>\n",
       "    <tr>\n",
       "      <td>127</td>\n",
       "      <td>41399</td>\n",
       "      <td>13816</td>\n",
       "      <td>i a abrikosov</td>\n",
       "      <td>Igor A. Abrikosov</td>\n",
       "      <td>102134673.0</td>\n",
       "      <td>428</td>\n",
       "      <td>9268</td>\n",
       "      <td>2016-06-24</td>\n",
       "    </tr>\n",
       "    <tr>\n",
       "      <td>197</td>\n",
       "      <td>71810</td>\n",
       "      <td>13507</td>\n",
       "      <td>fred f kadlubar</td>\n",
       "      <td>Fred F. Kadlubar</td>\n",
       "      <td>79620101.0</td>\n",
       "      <td>335</td>\n",
       "      <td>18487</td>\n",
       "      <td>2016-06-24</td>\n",
       "    </tr>\n",
       "    <tr>\n",
       "      <td>955</td>\n",
       "      <td>350732</td>\n",
       "      <td>14599</td>\n",
       "      <td>hamid reza khavasi</td>\n",
       "      <td>Hamid Reza Khavasi</td>\n",
       "      <td>48379061.0</td>\n",
       "      <td>340</td>\n",
       "      <td>3936</td>\n",
       "      <td>2016-06-24</td>\n",
       "    </tr>\n",
       "  </tbody>\n",
       "</table>\n",
       "</div>"
      ],
      "text/plain": [
       "          0      1                   2                   3            4    5  \\\n",
       "127   41399  13816       i a abrikosov   Igor A. Abrikosov  102134673.0  428   \n",
       "197   71810  13507     fred f kadlubar    Fred F. Kadlubar   79620101.0  335   \n",
       "955  350732  14599  hamid reza khavasi  Hamid Reza Khavasi   48379061.0  340   \n",
       "\n",
       "         6           7  \n",
       "127   9268  2016-06-24  \n",
       "197  18487  2016-06-24  \n",
       "955   3936  2016-06-24  "
      ]
     },
     "execution_count": 80,
     "metadata": {},
     "output_type": "execute_result"
    },
    {
     "name": "stdout",
     "output_type": "stream",
     "text": [
      "time: 23 ms\n"
     ]
    }
   ],
   "source": [
    "tmpB[tmpB[5]>300]"
   ]
  },
  {
   "cell_type": "code",
   "execution_count": 58,
   "metadata": {},
   "outputs": [
    {
     "data": {
      "text/plain": [
       "0       5\n",
       "1       2\n",
       "2      18\n",
       "3       4\n",
       "4       2\n",
       "       ..\n",
       "995    51\n",
       "996     2\n",
       "997    27\n",
       "998     3\n",
       "999     6\n",
       "Name: 5, Length: 1000, dtype: int64"
      ]
     },
     "execution_count": 58,
     "metadata": {},
     "output_type": "execute_result"
    },
    {
     "name": "stdout",
     "output_type": "stream",
     "text": [
      "time: 8.88 ms\n"
     ]
    }
   ],
   "source": [
    "numpaper_list"
   ]
  },
  {
   "cell_type": "code",
   "execution_count": 59,
   "metadata": {},
   "outputs": [
    {
     "data": {
      "text/plain": [
       "428"
      ]
     },
     "execution_count": 59,
     "metadata": {},
     "output_type": "execute_result"
    },
    {
     "name": "stdout",
     "output_type": "stream",
     "text": [
      "time: 4.82 ms\n"
     ]
    }
   ],
   "source": [
    "max(numpaper_list)"
   ]
  },
  {
   "cell_type": "markdown",
   "metadata": {},
   "source": [
    "# - Distribution of individual author's total number of papers (old and new)"
   ]
  },
  {
   "cell_type": "code",
   "execution_count": 135,
   "metadata": {},
   "outputs": [
    {
     "data": {
      "text/html": [
       "<div>\n",
       "<style scoped>\n",
       "    .dataframe tbody tr th:only-of-type {\n",
       "        vertical-align: middle;\n",
       "    }\n",
       "\n",
       "    .dataframe tbody tr th {\n",
       "        vertical-align: top;\n",
       "    }\n",
       "\n",
       "    .dataframe thead th {\n",
       "        text-align: right;\n",
       "    }\n",
       "</style>\n",
       "<table border=\"1\" class=\"dataframe\">\n",
       "  <thead>\n",
       "    <tr style=\"text-align: right;\">\n",
       "      <th></th>\n",
       "      <th>0</th>\n",
       "      <th>1</th>\n",
       "      <th>2</th>\n",
       "      <th>3</th>\n",
       "      <th>4</th>\n",
       "      <th>5</th>\n",
       "      <th>6</th>\n",
       "      <th>7</th>\n",
       "    </tr>\n",
       "  </thead>\n",
       "  <tbody>\n",
       "    <tr>\n",
       "      <td>0</td>\n",
       "      <td>584</td>\n",
       "      <td>20180</td>\n",
       "      <td>gozde ozdikmenlidemir</td>\n",
       "      <td>Gözde Özdikmenli-Demir</td>\n",
       "      <td>79946792.0</td>\n",
       "      <td>2</td>\n",
       "      <td>0</td>\n",
       "      <td>2016-06-24</td>\n",
       "    </tr>\n",
       "    <tr>\n",
       "      <td>1</td>\n",
       "      <td>859</td>\n",
       "      <td>20118</td>\n",
       "      <td>gy tolmar</td>\n",
       "      <td>Gy. Tolmár</td>\n",
       "      <td>NaN</td>\n",
       "      <td>2</td>\n",
       "      <td>1</td>\n",
       "      <td>2016-06-24</td>\n",
       "    </tr>\n",
       "    <tr>\n",
       "      <td>2</td>\n",
       "      <td>978</td>\n",
       "      <td>17767</td>\n",
       "      <td>ximena faundez</td>\n",
       "      <td>Ximena Faúndez</td>\n",
       "      <td>162148367.0</td>\n",
       "      <td>18</td>\n",
       "      <td>40</td>\n",
       "      <td>2016-06-24</td>\n",
       "    </tr>\n",
       "    <tr>\n",
       "      <td>3</td>\n",
       "      <td>1139</td>\n",
       "      <td>19162</td>\n",
       "      <td>jennifer putzi</td>\n",
       "      <td>Jennifer Putzi</td>\n",
       "      <td>NaN</td>\n",
       "      <td>4</td>\n",
       "      <td>16</td>\n",
       "      <td>2016-06-24</td>\n",
       "    </tr>\n",
       "    <tr>\n",
       "      <td>4</td>\n",
       "      <td>1611</td>\n",
       "      <td>20180</td>\n",
       "      <td>純子 貝原</td>\n",
       "      <td>純子 貝原</td>\n",
       "      <td>NaN</td>\n",
       "      <td>2</td>\n",
       "      <td>0</td>\n",
       "      <td>2016-06-24</td>\n",
       "    </tr>\n",
       "    <tr>\n",
       "      <td>...</td>\n",
       "      <td>...</td>\n",
       "      <td>...</td>\n",
       "      <td>...</td>\n",
       "      <td>...</td>\n",
       "      <td>...</td>\n",
       "      <td>...</td>\n",
       "      <td>...</td>\n",
       "      <td>...</td>\n",
       "    </tr>\n",
       "    <tr>\n",
       "      <td>995</td>\n",
       "      <td>346337</td>\n",
       "      <td>17599</td>\n",
       "      <td>jacques chassin de kergommeaux</td>\n",
       "      <td>Jacques Chassin de Kergommeaux</td>\n",
       "      <td>94861195.0</td>\n",
       "      <td>14</td>\n",
       "      <td>111</td>\n",
       "      <td>2016-06-24</td>\n",
       "    </tr>\n",
       "    <tr>\n",
       "      <td>996</td>\n",
       "      <td>346752</td>\n",
       "      <td>19028</td>\n",
       "      <td>sule e egya</td>\n",
       "      <td>Sule E. Egya</td>\n",
       "      <td>39343248.0</td>\n",
       "      <td>5</td>\n",
       "      <td>8</td>\n",
       "      <td>2016-06-24</td>\n",
       "    </tr>\n",
       "    <tr>\n",
       "      <td>997</td>\n",
       "      <td>347195</td>\n",
       "      <td>16744</td>\n",
       "      <td>tom f wilderjans</td>\n",
       "      <td>Tom F. Wilderjans</td>\n",
       "      <td>99464096.0</td>\n",
       "      <td>36</td>\n",
       "      <td>341</td>\n",
       "      <td>2016-06-24</td>\n",
       "    </tr>\n",
       "    <tr>\n",
       "      <td>998</td>\n",
       "      <td>347972</td>\n",
       "      <td>20668</td>\n",
       "      <td>roy e mctarnaghan</td>\n",
       "      <td>Roy E. McTarnaghan</td>\n",
       "      <td>NaN</td>\n",
       "      <td>1</td>\n",
       "      <td>3</td>\n",
       "      <td>2016-06-24</td>\n",
       "    </tr>\n",
       "    <tr>\n",
       "      <td>999</td>\n",
       "      <td>348686</td>\n",
       "      <td>15755</td>\n",
       "      <td>sedat alkoy</td>\n",
       "      <td>Sedat Alkoy</td>\n",
       "      <td>109297418.0</td>\n",
       "      <td>73</td>\n",
       "      <td>812</td>\n",
       "      <td>2016-06-24</td>\n",
       "    </tr>\n",
       "  </tbody>\n",
       "</table>\n",
       "<p>1000 rows × 8 columns</p>\n",
       "</div>"
      ],
      "text/plain": [
       "          0      1                               2  \\\n",
       "0       584  20180           gozde ozdikmenlidemir   \n",
       "1       859  20118                       gy tolmar   \n",
       "2       978  17767                  ximena faundez   \n",
       "3      1139  19162                  jennifer putzi   \n",
       "4      1611  20180                           純子 貝原   \n",
       "..      ...    ...                             ...   \n",
       "995  346337  17599  jacques chassin de kergommeaux   \n",
       "996  346752  19028                     sule e egya   \n",
       "997  347195  16744                tom f wilderjans   \n",
       "998  347972  20668               roy e mctarnaghan   \n",
       "999  348686  15755                     sedat alkoy   \n",
       "\n",
       "                                  3            4   5    6           7  \n",
       "0            Gözde Özdikmenli-Demir   79946792.0   2    0  2016-06-24  \n",
       "1                        Gy. Tolmár          NaN   2    1  2016-06-24  \n",
       "2                    Ximena Faúndez  162148367.0  18   40  2016-06-24  \n",
       "3                    Jennifer Putzi          NaN   4   16  2016-06-24  \n",
       "4                             純子 貝原          NaN   2    0  2016-06-24  \n",
       "..                              ...          ...  ..  ...         ...  \n",
       "995  Jacques Chassin de Kergommeaux   94861195.0  14  111  2016-06-24  \n",
       "996                    Sule E. Egya   39343248.0   5    8  2016-06-24  \n",
       "997               Tom F. Wilderjans   99464096.0  36  341  2016-06-24  \n",
       "998              Roy E. McTarnaghan          NaN   1    3  2016-06-24  \n",
       "999                     Sedat Alkoy  109297418.0  73  812  2016-06-24  \n",
       "\n",
       "[1000 rows x 8 columns]"
      ]
     },
     "execution_count": 135,
     "metadata": {},
     "output_type": "execute_result"
    },
    {
     "name": "stdout",
     "output_type": "stream",
     "text": [
      "time: 41.4 ms\n"
     ]
    }
   ],
   "source": [
    "OldAuthors[:1000]"
   ]
  },
  {
   "cell_type": "code",
   "execution_count": 137,
   "metadata": {},
   "outputs": [
    {
     "data": {
      "text/plain": [
       "0                   584\n",
       "1                   859\n",
       "2                   978\n",
       "3                  1139\n",
       "4                  1611\n",
       "                ...    \n",
       "252389554    2895778919\n",
       "252389555    2895778922\n",
       "252389556    2895778923\n",
       "252389557    2895778924\n",
       "252389558    2895778925\n",
       "Name: 0, Length: 252389559, dtype: int64"
      ]
     },
     "execution_count": 137,
     "metadata": {},
     "output_type": "execute_result"
    },
    {
     "name": "stdout",
     "output_type": "stream",
     "text": [
      "time: 8.18 ms\n"
     ]
    }
   ],
   "source": [
    "OldAuthors[0]"
   ]
  },
  {
   "cell_type": "code",
   "execution_count": 84,
   "metadata": {},
   "outputs": [
    {
     "data": {
      "image/png": "[encoded data removed]",
      "text/plain": [
       "<Figure size 432x288 with 1 Axes>"
      ]
     },
     "metadata": {
      "needs_background": "light"
     },
     "output_type": "display_data"
    },
    {
     "name": "stdout",
     "output_type": "stream",
     "text": [
      "time: 709 ms\n"
     ]
    }
   ],
   "source": [
    "Old_numpaper_list = OldAuthors[:1000][5]\n",
    "plt.hist(Old_numpaper_list)\n",
    "#plt.xscale(\"log\")\n",
    "plt.yscale(\"log\")\n",
    "plt.show()"
   ]
  },
  {
   "cell_type": "code",
   "execution_count": 175,
   "metadata": {},
   "outputs": [
    {
     "data": {
      "image/png": "[encoded data removed]",
      "text/plain": [
       "<Figure size 432x288 with 1 Axes>"
      ]
     },
     "metadata": {
      "needs_background": "light"
     },
     "output_type": "display_data"
    },
    {
     "name": "stdout",
     "output_type": "stream",
     "text": [
      "time: 267 ms\n"
     ]
    }
   ],
   "source": [
    "New_numpaper_list = Authors[:1000][5]\n",
    "plt.hist(New_numpaper_list)\n",
    "#plt.xscale(\"log\")\n",
    "#plt.yscale(\"log\")\n",
    "plt.show()"
   ]
  },
  {
   "cell_type": "code",
   "execution_count": null,
   "metadata": {
    "collapsed": true
   },
   "outputs": [],
   "source": [
    "plt.plot([3,2,1])"
   ]
  },
  {
   "cell_type": "code",
   "execution_count": 141,
   "metadata": {},
   "outputs": [
    {
     "data": {
      "text/plain": [
       "[<matplotlib.lines.Line2D at 0x7f71e5a68b10>]"
      ]
     },
     "execution_count": 141,
     "metadata": {},
     "output_type": "execute_result"
    },
    {
     "data": {
      "image/png": "[encoded data removed]",
      "text/plain": [
       "<Figure size 432x288 with 1 Axes>"
      ]
     },
     "metadata": {
      "needs_background": "light"
     },
     "output_type": "display_data"
    },
    {
     "name": "stdout",
     "output_type": "stream",
     "text": [
      "time: 208 ms\n"
     ]
    }
   ],
   "source": [
    "New_numpaper_list = Authors[:1000][5]\n",
    "plt.plot(New_numpaper_list)\n",
    "#plt.xscale(\"log\")\n",
    "#plt.yscale(\"log\")"
   ]
  },
  {
   "cell_type": "markdown",
   "metadata": {},
   "source": [
    "New_numpaper_list"
   ]
  },
  {
   "cell_type": "code",
   "execution_count": 95,
   "metadata": {},
   "outputs": [
    {
     "data": {
      "text/plain": [
       "0       5\n",
       "1       2\n",
       "2      18\n",
       "3       4\n",
       "4       2\n",
       "       ..\n",
       "995    51\n",
       "996     2\n",
       "997    27\n",
       "998     3\n",
       "999     6\n",
       "Name: 5, Length: 1000, dtype: int64"
      ]
     },
     "execution_count": 95,
     "metadata": {},
     "output_type": "execute_result"
    },
    {
     "name": "stdout",
     "output_type": "stream",
     "text": [
      "time: 8.32 ms\n"
     ]
    }
   ],
   "source": [
    "New_numpaper_list"
   ]
  },
  {
   "cell_type": "code",
   "execution_count": 28,
   "metadata": {},
   "outputs": [
    {
     "data": {
      "text/plain": [
       "428"
      ]
     },
     "execution_count": 28,
     "metadata": {},
     "output_type": "execute_result"
    },
    {
     "name": "stdout",
     "output_type": "stream",
     "text": [
      "time: 4.75 ms\n"
     ]
    }
   ],
   "source": [
    "max(numpaper_list)"
   ]
  },
  {
   "cell_type": "code",
   "execution_count": 188,
   "metadata": {},
   "outputs": [
    {
     "data": {
      "image/png": "[encoded data removed]",
      "text/plain": [
       "<Figure size 432x288 with 1 Axes>"
      ]
     },
     "metadata": {
      "needs_background": "light"
     },
     "output_type": "display_data"
    },
    {
     "name": "stdout",
     "output_type": "stream",
     "text": [
      "time: 922 ms\n"
     ]
    }
   ],
   "source": [
    "fig = plt.figure()\n",
    "bin_edges = [0,50,100,150,200,250,300,350,400]\n",
    "plt.hist(New_numpaper_list, label=\"New\", alpha=0.8,color ='orange')\n",
    "plt.hist(Old_numpaper_list, label=\"Old\", alpha=0.8)\n",
    "plt.xticks([0,50,100,150,200,250,300,350,400])\n",
    "plt.yscale(\"log\")\n",
    "plt.legend()\n",
    "plt.title(\"Distribution of individual author's total number of papers (old and new)\")\n",
    "##To save picture into Putty\n",
    "fig.savefig(\"HAPUS1.png\")"
   ]
  },
  {
   "cell_type": "code",
   "execution_count": null,
   "metadata": {
    "collapsed": true
   },
   "outputs": [],
   "source": []
  }
 ],
 "metadata": {
  "kernelspec": {
   "display_name": "Python 3",
   "language": "python",
   "name": "python3"
  },
  "language_info": {
   "codemirror_mode": {
    "name": "ipython",
    "version": 3
   },
   "file_extension": ".py",
   "mimetype": "text/x-python",
   "name": "python",
   "nbconvert_exporter": "python",
   "pygments_lexer": "ipython3",
   "version": "3.7.4"
  }
 },
 "nbformat": 4,
 "nbformat_minor": 2
}
